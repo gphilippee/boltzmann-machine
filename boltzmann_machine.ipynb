{
 "cells": [
  {
   "cell_type": "code",
   "execution_count": 1,
   "metadata": {},
   "outputs": [
    {
     "name": "stderr",
     "output_type": "stream",
     "text": [
      "2023-03-23 10:29:56.755711: I tensorflow/core/platform/cpu_feature_guard.cc:193] This TensorFlow binary is optimized with oneAPI Deep Neural Network Library (oneDNN) to use the following CPU instructions in performance-critical operations:  AVX2 FMA\n",
      "To enable them in other operations, rebuild TensorFlow with the appropriate compiler flags.\n"
     ]
    }
   ],
   "source": [
    "import numpy as np\n",
    "import scipy.io as sio\n",
    "from sklearn.metrics import f1_score, accuracy_score\n",
    "\n",
    "from keras.datasets import mnist\n",
    "\n",
    "import matplotlib.pyplot as plt\n",
    "\n",
    "import warnings\n",
    "from datetime import datetime\n",
    "\n",
    "# suppress warnings\n",
    "warnings.filterwarnings(\"ignore\")\n",
    "\n",
    "%matplotlib inline"
   ]
  },
  {
   "attachments": {},
   "cell_type": "markdown",
   "metadata": {},
   "source": [
    "# Data"
   ]
  },
  {
   "cell_type": "code",
   "execution_count": 2,
   "metadata": {},
   "outputs": [],
   "source": [
    "def lire_alpha_digit(chars):\n",
    "    alpha_digits = sio.loadmat(\"data/binaryalphadigs.mat\", squeeze_me=True)[\"dat\"]\n",
    "\n",
    "    arr = []\n",
    "    y = []\n",
    "    for i, char in enumerate(chars):\n",
    "        if type(char) == int:\n",
    "            char = str(char)\n",
    "\n",
    "        asc_char = ord(char)\n",
    "        if asc_char >= 65 and asc_char <= 90:\n",
    "            for digit in alpha_digits[asc_char - 55]:\n",
    "                arr.append(digit.flatten())\n",
    "                y.append(asc_char - 55)\n",
    "        elif asc_char >= 48 and asc_char <= 57:\n",
    "            for digit in alpha_digits[asc_char - 48]:\n",
    "                arr.append(digit.flatten())\n",
    "                y.append(asc_char - 48)\n",
    "        else:\n",
    "            raise Exception(\"Char not valid\")\n",
    "    return np.array(arr), np.array(y)\n",
    "\n",
    "\n",
    "def lire_mnist(subsample_size=-1):\n",
    "    (X_train, y_train), (X_test, y_test) = mnist.load_data()\n",
    "\n",
    "    # subsample to 1000 samples\n",
    "    if subsample_size != -1:\n",
    "        X_train = X_train[:subsample_size]\n",
    "        y_train = y_train[:subsample_size]\n",
    "        X_test = X_test[:subsample_size]\n",
    "        y_test = y_test[:subsample_size]\n",
    "\n",
    "    # to binary and flatten\n",
    "    X_train_bin = (X_train >= 128).astype(int).reshape(X_train.shape[0], -1)\n",
    "    X_test_bin = (X_test >= 128).astype(int).reshape(X_test.shape[0], -1)\n",
    "\n",
    "    # one hot encode\n",
    "    y_train = one_hot_encode(y_train)\n",
    "    y_test = one_hot_encode(y_test)\n",
    "    return X_train_bin, X_test_bin, y_train, y_test"
   ]
  },
  {
   "cell_type": "markdown",
   "source": [
    "# Utils"
   ],
   "metadata": {
    "collapsed": false
   }
  },
  {
   "cell_type": "code",
   "execution_count": 3,
   "outputs": [],
   "source": [
    "def one_hot_encode(y):\n",
    "    unique_labels = np.unique(y)\n",
    "    y_ohe = np.zeros((y.shape[0], len(unique_labels)))\n",
    "    for i in range(y.shape[0]):\n",
    "        y_ohe[i, np.where(unique_labels == y[i])] = 1\n",
    "    return y_ohe\n",
    "\n",
    "\n",
    "def idx2char(idx):\n",
    "    if 0 <= idx <= 9:\n",
    "        return chr(idx + 48)\n",
    "    else:\n",
    "        return chr(idx + 55)"
   ],
   "metadata": {
    "collapsed": false
   }
  },
  {
   "cell_type": "markdown",
   "source": [
    "# Plot utils"
   ],
   "metadata": {
    "collapsed": false
   }
  },
  {
   "cell_type": "code",
   "execution_count": 4,
   "outputs": [],
   "source": [
    "def plot_data(X, y=None, save=False):\n",
    "    perm = np.random.permutation(X.shape[0])\n",
    "    plt.figure()\n",
    "    for i in range(9):\n",
    "        plt.subplot(3, 3, i + 1)\n",
    "        plt.xticks([])\n",
    "        plt.yticks([])\n",
    "        plt.grid(False)\n",
    "        plt.imshow(X[perm[i]], cmap=\"gray\")\n",
    "        if y is not None:\n",
    "            plt.xlabel(idx2char(y[perm[i]]))\n",
    "    plt.tight_layout()\n",
    "    if save:\n",
    "        now = datetime.now()\n",
    "        dt_string = now.strftime(\"%d-%m-%Y_%H-%M-%S\")\n",
    "        plt.savefig(f\"data_{dt_string}\")\n",
    "    plt.show()"
   ],
   "metadata": {
    "collapsed": false
   }
  },
  {
   "cell_type": "markdown",
   "source": [
    "# Functions"
   ],
   "metadata": {
    "collapsed": false
   }
  },
  {
   "cell_type": "code",
   "execution_count": 5,
   "outputs": [],
   "source": [
    "def softmax(x):\n",
    "    \"\"\"\n",
    "    Calcule la fonction softmax.\n",
    "    \"\"\"\n",
    "    return (np.exp(x).T / np.sum(np.exp(x), axis=1)).T\n",
    "\n",
    "\n",
    "def sigmoid(x):\n",
    "    \"\"\"\n",
    "    Calcule la fonction sigmoïde.\n",
    "    \"\"\"\n",
    "    return 1 / (1 + np.exp(-x))\n",
    "\n",
    "\n",
    "def calcul_softmax(layer, X):\n",
    "    \"\"\"\n",
    "    Calcule les probabilités sur les unités de sortie à partir de la fonction softmax. Cette fonction retournera les probabilités sur les unités de sortie et prendra en argument un RBM et des données d'entrée.\n",
    "    \"\"\"\n",
    "    return softmax(np.dot(X, layer.W) + layer.b)"
   ],
   "metadata": {
    "collapsed": false
   }
  },
  {
   "attachments": {},
   "cell_type": "markdown",
   "metadata": {},
   "source": [
    "# RBM"
   ]
  },
  {
   "cell_type": "code",
   "execution_count": 6,
   "metadata": {},
   "outputs": [],
   "source": [
    "class RBM:\n",
    "    def __init__(self, p, q):\n",
    "        self.W = np.random.normal(0, 0.01, (p, q))\n",
    "        self.a = np.zeros(p)\n",
    "        self.b = np.zeros(q)\n",
    "\n",
    "\n",
    "def init_RBM(p, q):\n",
    "    \"\"\"\n",
    "    Construit et initialise les poids et les biais d'un RBM. Cette fonction retournera une structure RBM avec des poids et biais initialisés.\n",
    "    On initialisera les biais à 0 tandis que les poids seront initialisés aléatoirement suivant une loi normale centrée, de variance égale à 0.01.\n",
    "    \"\"\"\n",
    "    rbm = RBM(p, q)\n",
    "    return rbm\n",
    "\n",
    "\n",
    "def entree_sortie_RBM(rbm, X):\n",
    "    \"\"\"\n",
    "    Calcule la valeur des unités de sortie d'un RBM à partir des données d'entrée et de la fonction sigmoïde.\n",
    "    \"\"\"\n",
    "    return sigmoid(np.dot(X, rbm.W) + rbm.b)\n",
    "\n",
    "\n",
    "def sortie_entree_RBM(rbm, H):\n",
    "    \"\"\"\n",
    "    Calcule la valeur des unités d'entrée d'un RBM à partir des données de sortie et de la fonction sigmoïde.\n",
    "    \"\"\"\n",
    "    return sigmoid(np.dot(H, rbm.W.T) + rbm.a)\n",
    "\n",
    "\n",
    "def train_RBM(rbm, X, epochs, learning_rate, batch_size):\n",
    "    \"\"\"\n",
    "    Apprend un RBM par l'algorithme Contrastive-Divergence-1. Cette fonction retournera un structure\n",
    "    RBM et prendra en argument une structure RBM, le nombre d'itérations de la descente de gradient (epochs),\n",
    "    le learning rate, la taille du mini-batch, des données d'entrées...\n",
    "    \"\"\"\n",
    "    n = X.shape[0]\n",
    "    p, q = rbm.W.shape\n",
    "    for epoch in range(epochs):\n",
    "        X_copy = np.copy(X)\n",
    "        np.random.shuffle(X_copy)\n",
    "        for i in range(0, n, batch_size):\n",
    "            v_0 = X[i : i + batch_size]\n",
    "            tb = len(v_0)\n",
    "            es_v_0 = entree_sortie_RBM(rbm, v_0)\n",
    "            h_0 = (np.random.uniform(size=(tb, q)) < es_v_0).astype(\"float\")\n",
    "            v_1 = (\n",
    "                np.random.uniform(size=(tb, p)) < sortie_entree_RBM(rbm, h_0)\n",
    "            ).astype(\"float\")\n",
    "            h_1 = entree_sortie_RBM(rbm, v_1)\n",
    "            rbm.W += learning_rate / tb * (np.dot(v_0.T, es_v_0) - np.dot(v_1.T, h_1))\n",
    "            rbm.a += learning_rate / tb * np.sum(v_0 - v_1, axis=0)\n",
    "            rbm.b += learning_rate / tb * np.sum(es_v_0 - h_1, axis=0)\n",
    "    return rbm\n",
    "\n",
    "\n",
    "def generer_image_RBM(rbm, n_iter, n_image):\n",
    "    \"\"\"\n",
    "    Génère des échantillons suivant un RBM. Cette fonction retournera et affichera les images générées et prendra en argument une structure de type RBM, le nombre d'itérations à utiliser dans l'échantillonneur de Gibbs et le nombre d'images à générer.\n",
    "    \"\"\"\n",
    "    p, q = rbm.W.shape\n",
    "    X = (np.random.uniform(size=(n_image, p)) < 0.5).astype(\"float\")\n",
    "    for i in range(n_iter):\n",
    "        H = (np.random.uniform(size=(n_image, q)) < entree_sortie_RBM(rbm, X)).astype(\n",
    "            \"float\"\n",
    "        )\n",
    "        X = (np.random.uniform(size=(n_image, p)) < sortie_entree_RBM(rbm, H)).astype(\n",
    "            \"float\"\n",
    "        )\n",
    "    return X"
   ]
  },
  {
   "attachments": {},
   "cell_type": "markdown",
   "metadata": {},
   "source": [
    "# DBN"
   ]
  },
  {
   "cell_type": "code",
   "execution_count": 7,
   "metadata": {},
   "outputs": [],
   "source": [
    "class DBN:\n",
    "    def __init__(self, n_layers):\n",
    "        self.layers = []\n",
    "        for i in range(len(n_layers) - 1):\n",
    "            self.layers.append(RBM(n_layers[i], n_layers[i + 1]))\n",
    "\n",
    "    def __len__(self):\n",
    "        return len(self.layers)\n",
    "\n",
    "    def __getitem__(self, i):\n",
    "        return self.layers[i]\n",
    "\n",
    "    def __setitem__(self, i, layer):\n",
    "        self.layers[i] = layer\n",
    "\n",
    "\n",
    "def init_DBN(n_layers):\n",
    "    \"\"\"\n",
    "    Construit et initialise les poids et les biais d'un DBN. Cette fonction retournera un DBN avec des poids et biais initialisés.\n",
    "    On initialisera les biais à 0 tandis que les poids seront initialisés aléatoirement suivant une loi normale centrée, de variance égale à 0.01.\n",
    "    \"\"\"\n",
    "    dbn = DBN(n_layers)\n",
    "    return dbn\n",
    "\n",
    "\n",
    "def train_DBN(dbn, X_init, epochs, learning_rate, batch_size):\n",
    "    \"\"\"\n",
    "    Apprend un DBN par la méthode Greedy Layer-Wise. Cette fonction retournera un DBN pré-entrainé et prendra en argument un DBN, le nombre d'itérations de la descente de gradient, le learning rate, la taille du mini-batch, des données d'entrées.\n",
    "    \"\"\"\n",
    "    X = X_init\n",
    "    for rbm in dbn:\n",
    "        rbm = train_RBM(rbm, X, epochs, learning_rate, batch_size)\n",
    "        X = entree_sortie_RBM(rbm, X)\n",
    "    return dbn\n",
    "\n",
    "\n",
    "def generer_image_DBN(dbn, n_iter, n_image):\n",
    "    \"\"\"\n",
    "    Génère des échantillons suivant un DBN. Cette fonction retournera et affichera les images générées et prendra en argument un DBN pré-entrainé, le nombre d'itérations à utiliser dans l'échantillonneur de Gibbs et le nombre d'images à générer.\n",
    "    \"\"\"\n",
    "    X = generer_image_RBM(dbn[-1], n_iter, n_image)\n",
    "    for i in range(len(dbn) - 2, -1, -1):\n",
    "        p, q = dbn[i].W.shape\n",
    "        X = (\n",
    "            np.random.uniform(size=(n_image, p)) < sortie_entree_RBM(dbn[i], X)\n",
    "        ).astype(\"float\")\n",
    "    return X"
   ]
  },
  {
   "attachments": {},
   "cell_type": "markdown",
   "metadata": {},
   "source": [
    "# DNN"
   ]
  },
  {
   "cell_type": "code",
   "execution_count": 8,
   "metadata": {},
   "outputs": [],
   "source": [
    "class FC:\n",
    "    def __init__(self, p, q):\n",
    "        self.W = np.random.normal(0, 0.1, (p, q))\n",
    "        self.b = np.zeros(q)\n",
    "\n",
    "\n",
    "class DNN(DBN):\n",
    "    def __init__(self, n_layers):\n",
    "        self.layers = []\n",
    "        for i in range(len(n_layers) - 2):\n",
    "            self.layers.append(RBM(n_layers[i], n_layers[i + 1]))\n",
    "        self.layers.append(FC(n_layers[-2], n_layers[-1]))\n",
    "\n",
    "\n",
    "def init_DNN(n_layers):\n",
    "    \"\"\"\n",
    "    Construit et initialise les poids et les biais d'un DNN. Cette fonction retournera un DNN avec des poids et biais initialisés.\n",
    "    On initialisera les biais à 0 tandis que les poids seront initialisés aléatoirement suivant une loi normale centrée, de variance égale à 0.01.\n",
    "    \"\"\"\n",
    "    dnn = DNN(n_layers)\n",
    "    return dnn\n",
    "\n",
    "\n",
    "def pretrain_DNN(dnn, X_init, epochs, lr, batch_size):\n",
    "    \"\"\"\n",
    "    Pré-entraine un DNN. Cette fonction retournera un DNN pré-entrainé et prendra en argument un DNN, le nombre d'itérations de la descente de gradient, le learning rate, la taille du mini-batch, des données d'entrées.\n",
    "    \"\"\"\n",
    "    for epoch in range(epochs):\n",
    "        X = X_init\n",
    "        for rbm in dnn[:-1]:\n",
    "            rbm = train_RBM(rbm, X, epochs, lr, batch_size)\n",
    "            X = entree_sortie_RBM(rbm, X)\n",
    "    return dnn\n",
    "\n",
    "\n",
    "def entree_sortie_reseau(dnn, X):\n",
    "    \"\"\"\n",
    "    Calcule les sorties sur chaque couche du réseau (couche d'entrée inclue) ainsi que les probabilités sur les unités de sortie. Cette fonction retournera une liste contenant les sorties sur chaque couche du réseau ainsi que les probabilités sur les unités de sortie et prendra en argument un DNN et des données d'entrée.\n",
    "    \"\"\"\n",
    "    sorties = [X]\n",
    "    for rbm in dnn[:-1]:\n",
    "        sorties.append(entree_sortie_RBM(rbm, sorties[-1]))\n",
    "    sorties.append(calcul_softmax(dnn[-1], sorties[-1]))\n",
    "    return sorties\n",
    "\n",
    "\n",
    "def retropropagation(dnn, X, y, epochs, lr, batch_size, verbose):\n",
    "    \"\"\"\n",
    "    Estime les poids/biais du réseau à partir de données labellisées. Cette fonction retournera un DNN et prendra en argument un DNN, le nombre d'itérations de la descente de gradient, le learning rate, la taille du mini-batch, des données d'entrée, leur label,...\n",
    "    \"\"\"\n",
    "    for epoch in range(epochs):\n",
    "        for i in range(0, X.shape[0], batch_size):\n",
    "            X_batch = X[i : i + batch_size]\n",
    "            y_batch = y[i : i + batch_size]\n",
    "            tb = len(X_batch)\n",
    "            sortie = entree_sortie_reseau(\n",
    "                dnn,\n",
    "                X_batch,\n",
    "            )\n",
    "            # compute dL/dZ\n",
    "            d_Z = sortie[-1] - y_batch\n",
    "\n",
    "            for j in range(len(dnn) - 1, -1, -1):\n",
    "                grad_W = 1 / tb * np.dot(sortie[j].T, d_Z)\n",
    "                grad_b = 1 / tb * np.sum(d_Z, axis=0)\n",
    "\n",
    "                # update W and b\n",
    "                dnn.layers[j].W -= learning_rate * grad_W\n",
    "                dnn.layers[j].b -= learning_rate * grad_b\n",
    "\n",
    "                if j == 0:  # no need to compute at last iteration\n",
    "                    break\n",
    "\n",
    "                # compute dL/dA and dL/dZ\n",
    "                d_A = np.dot(d_Z, dnn[j].W.T)\n",
    "                d_Z = d_A * sortie[j] * (1 - sortie[j])\n",
    "            cross_entropy = -np.mean(np.sum(y_batch * np.log(sortie[-1]), axis=1))\n",
    "        if verbose == 2:\n",
    "            print(f\"Epoch {epoch} - CE:\", cross_entropy)\n",
    "    return dnn\n",
    "\n",
    "\n",
    "def test_DNN(dnn, X, y):\n",
    "    \"\"\"\n",
    "    Teste les performances du réseau appris. Cette fonction retournera le taux d'erreur et prendra en argument un DNN appris, un jeu de données test, et les vrais labels associés.\n",
    "    \"\"\"\n",
    "    sortie = entree_sortie_reseau(dnn, X)\n",
    "    # Compute cross entropy\n",
    "    cross_entropy = -np.mean(np.sum(y * np.log(sortie[-1]), axis=1))\n",
    "    return sortie[-1], cross_entropy"
   ]
  },
  {
   "cell_type": "markdown",
   "source": [
    "# Run"
   ],
   "metadata": {
    "collapsed": false
   }
  },
  {
   "cell_type": "code",
   "execution_count": 9,
   "outputs": [],
   "source": [
    "def run_RBM(\n",
    "    X,\n",
    "    width: int,\n",
    "    height: int,\n",
    "    q: int,\n",
    "    epochs: int,\n",
    "    learning_rate,\n",
    "    batch_size: int,\n",
    "):\n",
    "\n",
    "    rbm = init_RBM(p=width * height, q=q)\n",
    "\n",
    "    train_RBM(rbm, X, epochs, learning_rate, batch_size)\n",
    "\n",
    "    X_gen = generer_image_RBM(rbm, 100, 9).reshape(-1, width, height)\n",
    "    return X_gen"
   ],
   "metadata": {
    "collapsed": false
   }
  },
  {
   "cell_type": "code",
   "execution_count": 10,
   "outputs": [],
   "source": [
    "def run_DBN(\n",
    "    X,\n",
    "    n_layers,\n",
    "    width: int,\n",
    "    height: int,\n",
    "    epochs: int,\n",
    "    learning_rate,\n",
    "    batch_size: int,\n",
    "):\n",
    "    dbn = init_DBN(n_layers)\n",
    "\n",
    "    train_DBN(dbn, X, epochs, learning_rate, batch_size)\n",
    "\n",
    "    X_gen = generer_image_DBN(dbn, 100, 9).reshape(-1, width, height)\n",
    "    return X_gen"
   ],
   "metadata": {
    "collapsed": false
   }
  },
  {
   "cell_type": "code",
   "execution_count": 11,
   "outputs": [],
   "source": [
    "def run_DNN(\n",
    "    X_train,\n",
    "    X_test,\n",
    "    y_train,\n",
    "    y_test,\n",
    "    n_layers,\n",
    "    learning_rate,\n",
    "    batch_size,\n",
    "    pretrain_iter,\n",
    "    train_iter,\n",
    "    verbose=1,\n",
    "):\n",
    "    # Initialisation du DNN\n",
    "    dnn = init_DNN(n_layers)\n",
    "\n",
    "    # Pré-entrainement du DNN\n",
    "    if pretrain_iter:\n",
    "        dnn = pretrain_DNN(dnn, X_train, pretrain_iter, learning_rate, batch_size)\n",
    "\n",
    "    # Entrainement du DNN\n",
    "    dnn = retropropagation(\n",
    "        dnn, X_train, y_train, train_iter, learning_rate, batch_size, verbose\n",
    "    )\n",
    "\n",
    "    # Test du DNN\n",
    "    y_pred, cross_entropy = test_DNN(dnn, X_test, y_test)\n",
    "    score = f1_score(\n",
    "        np.argmax(y_test, axis=1), np.argmax(y_pred, axis=1), average=\"micro\"\n",
    "    )\n",
    "    if verbose >= 1:\n",
    "        print(\"f1_score\", score)\n",
    "\n",
    "    return cross_entropy, score"
   ],
   "metadata": {
    "collapsed": false
   }
  },
  {
   "attachments": {},
   "cell_type": "markdown",
   "metadata": {},
   "source": [
    "# Etude sur Binary AlphaDigit"
   ]
  },
  {
   "cell_type": "code",
   "execution_count": 12,
   "metadata": {},
   "outputs": [],
   "source": [
    "all = [str(i) for i in range(10)] + [chr(i) for i in range(65, 91)]\n",
    "\n",
    "X, y = lire_alpha_digit(chars=all)\n",
    "height = 20\n",
    "width = 16"
   ]
  },
  {
   "cell_type": "code",
   "execution_count": 13,
   "outputs": [
    {
     "data": {
      "text/plain": "<Figure size 640x480 with 9 Axes>",
      "image/png": "[encoded data removed]"
     },
     "metadata": {},
     "output_type": "display_data"
    }
   ],
   "source": [
    "plot_data(X.reshape(-1, height, width), y, save=True)"
   ],
   "metadata": {
    "collapsed": false
   }
  },
  {
   "cell_type": "code",
   "execution_count": 14,
   "outputs": [
    {
     "name": "stdout",
     "output_type": "stream",
     "text": [
      "Small: ['2', '3', '4']\n",
      "Medium: ['0', '1', '2', '3', '4', '5', '6', '7', '8', '9']\n",
      "Large: ['A', 'B', 'C', 'D', 'E', 'F', 'G', 'H', 'I', 'J', 'K', 'L', 'M', 'N', 'O', 'P', 'Q', 'R', 'S', 'T', 'U', 'V', 'W', 'X', 'Y', 'Z']\n"
     ]
    }
   ],
   "source": [
    "small = [\"2\", \"3\", \"4\"]\n",
    "medium = [str(i) for i in range(10)]\n",
    "large = [chr(i) for i in range(65, 91)]\n",
    "\n",
    "print(\"Small:\", small)\n",
    "print(\"Medium:\", medium)\n",
    "print(\"Large:\", large)"
   ],
   "metadata": {
    "collapsed": false
   }
  },
  {
   "cell_type": "code",
   "execution_count": 15,
   "outputs": [
    {
     "name": "stdout",
     "output_type": "stream",
     "text": [
      "--- Size: small ---\n",
      "RBM\n"
     ]
    },
    {
     "data": {
      "text/plain": "<Figure size 640x480 with 9 Axes>",
      "image/png": "[encoded data removed]"
     },
     "metadata": {},
     "output_type": "display_data"
    },
    {
     "name": "stdout",
     "output_type": "stream",
     "text": [
      "DBN\n"
     ]
    },
    {
     "data": {
      "text/plain": "<Figure size 640x480 with 9 Axes>",
      "image/png": "[encoded data removed]"
     },
     "metadata": {},
     "output_type": "display_data"
    },
    {
     "name": "stdout",
     "output_type": "stream",
     "text": [
      "--- Size: medium ---\n",
      "RBM\n"
     ]
    },
    {
     "data": {
      "text/plain": "<Figure size 640x480 with 9 Axes>",
      "image/png": "[encoded data removed]"
     },
     "metadata": {},
     "output_type": "display_data"
    },
    {
     "name": "stdout",
     "output_type": "stream",
     "text": [
      "DBN\n"
     ]
    },
    {
     "data": {
      "text/plain": "<Figure size 640x480 with 9 Axes>",
      "image/png": "[encoded data removed]"
     },
     "metadata": {},
     "output_type": "display_data"
    },
    {
     "name": "stdout",
     "output_type": "stream",
     "text": [
      "--- Size: large ---\n",
      "RBM\n"
     ]
    },
    {
     "data": {
      "text/plain": "<Figure size 640x480 with 9 Axes>",
      "image/png": "[encoded data removed]"
     },
     "metadata": {},
     "output_type": "display_data"
    },
    {
     "name": "stdout",
     "output_type": "stream",
     "text": [
      "DBN\n"
     ]
    },
    {
     "data": {
      "text/plain": "<Figure size 640x480 with 9 Axes>",
      "image/png": "[encoded data removed]"
     },
     "metadata": {},
     "output_type": "display_data"
    }
   ],
   "source": [
    "epochs = 100\n",
    "learning_rate = 0.1\n",
    "batch_size = 10\n",
    "q = 200\n",
    "n_layers = [320, 200, 200]\n",
    "\n",
    "for size, chars in zip([\"small\", \"medium\", \"large\"], [small, medium, large]):\n",
    "    print(\"--- Size:\", size, \"---\")\n",
    "    X, y = lire_alpha_digit(chars=chars)\n",
    "\n",
    "    print(\"RBM\")\n",
    "\n",
    "    X_gen = run_RBM(\n",
    "        X,\n",
    "        height,\n",
    "        width,\n",
    "        q,\n",
    "        epochs,\n",
    "        learning_rate,\n",
    "        batch_size,\n",
    "    )\n",
    "\n",
    "    plot_data(X_gen, save=True)\n",
    "\n",
    "    print(\"DBN\")\n",
    "\n",
    "    X_gen = run_DBN(\n",
    "        X,\n",
    "        n_layers,\n",
    "        height,\n",
    "        width,\n",
    "        epochs,\n",
    "        learning_rate,\n",
    "        batch_size,\n",
    "    )\n",
    "\n",
    "    plot_data(X_gen, save=True)"
   ],
   "metadata": {
    "collapsed": false
   }
  },
  {
   "cell_type": "markdown",
   "source": [
    "# Etude sur MNIST"
   ],
   "metadata": {
    "collapsed": false
   }
  },
  {
   "cell_type": "code",
   "execution_count": 16,
   "outputs": [],
   "source": [
    "X_train, X_test, y_train, y_test = lire_mnist(subsample_size=-1)\n",
    "\n",
    "batch_size = 2000\n",
    "learning_rate = 0.1\n",
    "n_layers = [784, 200, 10]\n",
    "pretrain_iter = 5\n",
    "train_iter = 5"
   ],
   "metadata": {
    "collapsed": false
   }
  },
  {
   "cell_type": "code",
   "execution_count": 17,
   "outputs": [
    {
     "data": {
      "text/plain": "<Figure size 640x480 with 9 Axes>",
      "image/png": "[encoded data removed]"
     },
     "metadata": {},
     "output_type": "display_data"
    }
   ],
   "source": [
    "plot_data(X_train.reshape(-1, 28, 28))"
   ],
   "metadata": {
    "collapsed": false
   }
  },
  {
   "cell_type": "code",
   "execution_count": 18,
   "outputs": [
    {
     "name": "stdout",
     "output_type": "stream",
     "text": [
      "f1_score 0.8825\n"
     ]
    }
   ],
   "source": [
    "ce, score = run_DNN(\n",
    "    X_train,\n",
    "    X_test,\n",
    "    y_train,\n",
    "    y_test,\n",
    "    n_layers=n_layers,\n",
    "    learning_rate=learning_rate,\n",
    "    batch_size=batch_size,\n",
    "    pretrain_iter=pretrain_iter,\n",
    "    train_iter=train_iter,\n",
    "    verbose=1,\n",
    ")"
   ],
   "metadata": {
    "collapsed": false
   }
  },
  {
   "cell_type": "code",
   "execution_count": 18,
   "outputs": [],
   "source": [],
   "metadata": {
    "collapsed": false
   }
  }
 ],
 "metadata": {
  "kernelspec": {
   "display_name": "base",
   "language": "python",
   "name": "python3"
  },
  "language_info": {
   "codemirror_mode": {
    "name": "ipython",
    "version": 3
   },
   "file_extension": ".py",
   "mimetype": "text/x-python",
   "name": "python",
   "nbconvert_exporter": "python",
   "pygments_lexer": "ipython3",
   "version": "3.9.13"
  },
  "orig_nbformat": 4,
  "vscode": {
   "interpreter": {
    "hash": "fdc5d049eec9eaeec1c766624dece239ed4d1607671b6d493e340e6a292a2d6d"
   }
  }
 },
 "nbformat": 4,
 "nbformat_minor": 2
}
