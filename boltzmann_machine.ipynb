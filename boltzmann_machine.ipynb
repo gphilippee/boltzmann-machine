{
 "cells": [
  {
   "cell_type": "code",
   "execution_count": 35,
   "metadata": {
    "id": "7cNVZml79_gK"
   },
   "outputs": [],
   "source": [
    "import numpy as np\n",
    "import scipy.io as sio\n",
    "from sklearn.metrics import f1_score, accuracy_score\n",
    "from sklearn.model_selection import train_test_split\n",
    "\n",
    "from keras.datasets import mnist\n",
    "\n",
    "import matplotlib.pyplot as plt\n",
    "\n",
    "import warnings\n",
    "from datetime import datetime\n",
    "\n",
    "import torch\n",
    "from torch import nn\n",
    "from torch.nn import functional as F\n",
    "from torchvision import datasets, transforms\n",
    "from torchvision.utils import save_image\n",
    "from torch.utils.data import DataLoader, TensorDataset\n",
    "from torch.utils.data.sampler import SubsetRandomSampler\n",
    "\n",
    "import os\n",
    "\n",
    "# suppress warnings\n",
    "warnings.filterwarnings(\"ignore\")\n",
    "\n",
    "%matplotlib inline"
   ]
  },
  {
   "cell_type": "markdown",
   "metadata": {
    "id": "bdQlVvIe9_gk"
   },
   "source": [
    "# Data"
   ]
  },
  {
   "cell_type": "code",
   "execution_count": 3,
   "metadata": {
    "id": "pC_M3JnY9_gp"
   },
   "outputs": [],
   "source": [
    "def lire_alpha_digit(chars):\n",
    "    alpha_digits = sio.loadmat(\"data/binaryalphadigs.mat\", squeeze_me=True)[\"dat\"]\n",
    "\n",
    "    arr = []\n",
    "    y = []\n",
    "    for i, char in enumerate(chars):\n",
    "        if type(char) == int:\n",
    "            char = str(char)\n",
    "\n",
    "        asc_char = ord(char)\n",
    "        if asc_char >= 65 and asc_char <= 90:\n",
    "            for digit in alpha_digits[asc_char - 55]:\n",
    "                arr.append(digit.flatten())\n",
    "                y.append(asc_char - 55)\n",
    "        elif asc_char >= 48 and asc_char <= 57:\n",
    "            for digit in alpha_digits[asc_char - 48]:\n",
    "                arr.append(digit.flatten())\n",
    "                y.append(asc_char - 48)\n",
    "        else:\n",
    "            raise Exception(\"Char not valid\")\n",
    "    return np.array(arr), np.array(y)\n",
    "\n",
    "\n",
    "def lire_mnist(subsample_size=-1):\n",
    "    (X_train, y_train), (X_test, y_test) = mnist.load_data()\n",
    "\n",
    "    # subsample\n",
    "    if subsample_size != -1:\n",
    "        X_train = X_train[:subsample_size]\n",
    "        y_train = y_train[:subsample_size]\n",
    "        X_test = X_test[:subsample_size]\n",
    "        y_test = y_test[:subsample_size]\n",
    "\n",
    "    # to binary and flatten\n",
    "    X_train_bin = (X_train >= 128).astype(int).reshape(X_train.shape[0], -1)\n",
    "    X_test_bin = (X_test >= 128).astype(int).reshape(X_test.shape[0], -1)\n",
    "\n",
    "    # one hot encode\n",
    "    y_train = one_hot_encode(y_train)\n",
    "    y_test = one_hot_encode(y_test)\n",
    "    return X_train_bin, X_test_bin, y_train, y_test"
   ]
  },
  {
   "cell_type": "markdown",
   "source": [
    "# Utils"
   ],
   "metadata": {
    "collapsed": false,
    "id": "yUR_vPkE9_gr"
   }
  },
  {
   "cell_type": "code",
   "execution_count": 5,
   "outputs": [],
   "source": [
    "def one_hot_encode(y):\n",
    "    unique_labels = np.unique(y)\n",
    "    y_ohe = np.zeros((y.shape[0], len(unique_labels)))\n",
    "    for i in range(y.shape[0]):\n",
    "        y_ohe[i, np.where(unique_labels == y[i])] = 1\n",
    "    return y_ohe\n",
    "\n",
    "\n",
    "def idx2char(idx):\n",
    "    if 0 <= idx <= 9:\n",
    "        return chr(idx + 48)\n",
    "    else:\n",
    "        return chr(idx + 55)"
   ],
   "metadata": {
    "id": "WLEJRZPA9_gt"
   }
  },
  {
   "cell_type": "markdown",
   "source": [
    "# Plot utils"
   ],
   "metadata": {
    "collapsed": false,
    "id": "-L9JDZ7V9_gv"
   }
  },
  {
   "cell_type": "code",
   "execution_count": 32,
   "outputs": [],
   "source": [
    "def plot_data(X, y=None, save=False):\n",
    "    perm = np.random.permutation(X.shape[0])\n",
    "    plt.figure()\n",
    "    for i in range(9):\n",
    "        plt.subplot(3, 3, i + 1)\n",
    "        plt.xticks([])\n",
    "        plt.yticks([])\n",
    "        plt.grid(False)\n",
    "        plt.imshow(X[perm[i]], cmap=\"gray\")\n",
    "        if y is not None:\n",
    "            plt.xlabel(idx2char(y[perm[i]]))\n",
    "    plt.tight_layout()\n",
    "    if save:\n",
    "        now = datetime.now()\n",
    "        dt_string = now.strftime(\"%d-%m-%Y_%H-%M-%S\")\n",
    "        plt.savefig(f\"data_{dt_string}\")\n",
    "    plt.show()\n",
    "\n",
    "\n",
    "def plot_batched_images(batched_images, variables, save=False):\n",
    "    plt.figure(figsize=(4 * 1.5, len(variables) * 1.5))\n",
    "    for i, images in enumerate(batched_images):\n",
    "        for j, img in enumerate(images):\n",
    "            plt.subplot(len(images), len(batched_images), i + 1 + j * len(variables))\n",
    "            plt.imshow(img, cmap=\"gray\")\n",
    "            if j == 0:\n",
    "                plt.title(f\"{variables[i]}\")\n",
    "            plt.axis(\"off\")\n",
    "    plt.tight_layout()\n",
    "    if save:\n",
    "        now = datetime.now()\n",
    "        dt_string = now.strftime(\"%d-%m-%Y_%H-%M-%S\")\n",
    "        plt.savefig(f\"data_{dt_string}\")\n",
    "    plt.show()"
   ],
   "metadata": {
    "id": "357BRstK9_gv"
   }
  },
  {
   "cell_type": "markdown",
   "source": [
    "# Functions"
   ],
   "metadata": {
    "collapsed": false,
    "id": "XXtUweQH9_gy"
   }
  },
  {
   "cell_type": "code",
   "execution_count": 9,
   "outputs": [],
   "source": [
    "def softmax(x):\n",
    "    \"\"\"\n",
    "    Calcule la fonction softmax.\n",
    "    \"\"\"\n",
    "    return (np.exp(x).T / np.sum(np.exp(x), axis=1)).T\n",
    "\n",
    "\n",
    "def sigmoid(x):\n",
    "    \"\"\"\n",
    "    Calcule la fonction sigmoïde.\n",
    "    \"\"\"\n",
    "    return 1 / (1 + np.exp(-x))\n",
    "\n",
    "\n",
    "def calcul_softmax(layer, X):\n",
    "    \"\"\"\n",
    "    Calcule les probabilités sur les unités de sortie à partir de la fonction softmax. Cette fonction retournera les probabilités sur les unités de sortie et prendra en argument un RBM et des données d'entrée.\n",
    "    \"\"\"\n",
    "    return softmax(np.dot(X, layer.W) + layer.b)"
   ],
   "metadata": {
    "id": "so1QA32u9_gy"
   }
  },
  {
   "cell_type": "markdown",
   "metadata": {
    "id": "XAnlioCM9_g0"
   },
   "source": [
    "# RBM"
   ]
  },
  {
   "cell_type": "code",
   "execution_count": 10,
   "metadata": {
    "id": "leCPIk8v9_g1"
   },
   "outputs": [],
   "source": [
    "class RBM:\n",
    "    def __init__(self, p, q):\n",
    "        self.W = np.random.normal(0, 0.01, (p, q))\n",
    "        self.a = np.zeros(p)\n",
    "        self.b = np.zeros(q)\n",
    "\n",
    "\n",
    "def init_RBM(p, q):\n",
    "    \"\"\"\n",
    "    Construit et initialise les poids et les biais d'un RBM. Cette fonction retournera une structure RBM avec des poids et biais initialisés.\n",
    "    On initialisera les biais à 0 tandis que les poids seront initialisés aléatoirement suivant une loi normale centrée, de variance égale à 0.01.\n",
    "    \"\"\"\n",
    "    rbm = RBM(p, q)\n",
    "    return rbm\n",
    "\n",
    "\n",
    "def entree_sortie_RBM(rbm, X):\n",
    "    \"\"\"\n",
    "    Calcule la valeur des unités de sortie d'un RBM à partir des données d'entrée et de la fonction sigmoïde.\n",
    "    \"\"\"\n",
    "    return sigmoid(np.dot(X, rbm.W) + rbm.b)\n",
    "\n",
    "\n",
    "def sortie_entree_RBM(rbm, H):\n",
    "    \"\"\"\n",
    "    Calcule la valeur des unités d'entrée d'un RBM à partir des données de sortie et de la fonction sigmoïde.\n",
    "    \"\"\"\n",
    "    return sigmoid(np.dot(H, rbm.W.T) + rbm.a)\n",
    "\n",
    "\n",
    "def train_RBM(rbm, X, epochs, learning_rate, batch_size):\n",
    "    \"\"\"\n",
    "    Apprend un RBM par l'algorithme Contrastive-Divergence-1. Cette fonction retournera un structure\n",
    "    RBM et prendra en argument une structure RBM, le nombre d'itérations de la descente de gradient (epochs),\n",
    "    le learning rate, la taille du mini-batch, des données d'entrées...\n",
    "    \"\"\"\n",
    "    n = X.shape[0]\n",
    "    p, q = rbm.W.shape\n",
    "    for epoch in range(epochs):\n",
    "        X_copy = np.copy(X)\n",
    "        np.random.shuffle(X_copy)\n",
    "        for i in range(0, n, batch_size):\n",
    "            v_0 = X[i : i + batch_size]\n",
    "            tb = len(v_0)\n",
    "            es_v_0 = entree_sortie_RBM(rbm, v_0)\n",
    "            h_0 = (np.random.uniform(size=(tb, q)) < es_v_0).astype(\"float\")\n",
    "            v_1 = (\n",
    "                np.random.uniform(size=(tb, p)) < sortie_entree_RBM(rbm, h_0)\n",
    "            ).astype(\"float\")\n",
    "            h_1 = entree_sortie_RBM(rbm, v_1)\n",
    "            rbm.W += learning_rate / tb * (np.dot(v_0.T, es_v_0) - np.dot(v_1.T, h_1))\n",
    "            rbm.a += learning_rate / tb * np.sum(v_0 - v_1, axis=0)\n",
    "            rbm.b += learning_rate / tb * np.sum(es_v_0 - h_1, axis=0)\n",
    "    return rbm\n",
    "\n",
    "\n",
    "def generer_image_RBM(rbm, n_iter, n_image):\n",
    "    \"\"\"\n",
    "    Génère des échantillons suivant un RBM. Cette fonction retournera et affichera les images générées et prendra en argument une structure de type RBM, le nombre d'itérations à utiliser dans l'échantillonneur de Gibbs et le nombre d'images à générer.\n",
    "    \"\"\"\n",
    "    p, q = rbm.W.shape\n",
    "    X = (np.random.uniform(size=(n_image, p)) < 0.5).astype(\"float\")\n",
    "    for i in range(n_iter):\n",
    "        H = (np.random.uniform(size=(n_image, q)) < entree_sortie_RBM(rbm, X)).astype(\n",
    "            \"float\"\n",
    "        )\n",
    "        X = (np.random.uniform(size=(n_image, p)) < sortie_entree_RBM(rbm, H)).astype(\n",
    "            \"float\"\n",
    "        )\n",
    "    return X"
   ]
  },
  {
   "cell_type": "markdown",
   "metadata": {
    "id": "Q-cxh8ot9_g2"
   },
   "source": [
    "# DBN"
   ]
  },
  {
   "cell_type": "code",
   "execution_count": 11,
   "metadata": {
    "id": "Kb6o0zF79_g6"
   },
   "outputs": [],
   "source": [
    "class DBN:\n",
    "    def __init__(self, n_layers):\n",
    "        self.layers = []\n",
    "        for i in range(len(n_layers) - 1):\n",
    "            self.layers.append(RBM(n_layers[i], n_layers[i + 1]))\n",
    "\n",
    "    def __len__(self):\n",
    "        return len(self.layers)\n",
    "\n",
    "    def __getitem__(self, i):\n",
    "        return self.layers[i]\n",
    "\n",
    "    def __setitem__(self, i, layer):\n",
    "        self.layers[i] = layer\n",
    "\n",
    "\n",
    "def init_DBN(n_layers):\n",
    "    \"\"\"\n",
    "    Construit et initialise les poids et les biais d'un DBN. Cette fonction retournera un DBN avec des poids et biais initialisés.\n",
    "    On initialisera les biais à 0 tandis que les poids seront initialisés aléatoirement suivant une loi normale centrée, de variance égale à 0.01.\n",
    "    \"\"\"\n",
    "    dbn = DBN(n_layers)\n",
    "    return dbn\n",
    "\n",
    "\n",
    "def train_DBN(dbn, X_init, epochs, learning_rate, batch_size):\n",
    "    \"\"\"\n",
    "    Apprend un DBN par la méthode Greedy Layer-Wise. Cette fonction retournera un DBN pré-entrainé et prendra en argument un DBN, le nombre d'itérations de la descente de gradient, le learning rate, la taille du mini-batch, des données d'entrées.\n",
    "    \"\"\"\n",
    "    X = X_init\n",
    "    for rbm in dbn:\n",
    "        rbm = train_RBM(rbm, X, epochs, learning_rate, batch_size)\n",
    "        X = entree_sortie_RBM(rbm, X)\n",
    "    return dbn\n",
    "\n",
    "\n",
    "def generer_image_DBN(dbn, n_iter, n_image):\n",
    "    \"\"\"\n",
    "    Génère des échantillons suivant un DBN. Cette fonction retournera et affichera les images générées et prendra en argument un DBN pré-entrainé, le nombre d'itérations à utiliser dans l'échantillonneur de Gibbs et le nombre d'images à générer.\n",
    "    \"\"\"\n",
    "    X = generer_image_RBM(dbn[-1], n_iter, n_image)\n",
    "    for i in range(len(dbn) - 2, -1, -1):\n",
    "        p, q = dbn[i].W.shape\n",
    "        X = (\n",
    "            np.random.uniform(size=(n_image, p)) < sortie_entree_RBM(dbn[i], X)\n",
    "        ).astype(\"float\")\n",
    "    return X"
   ]
  },
  {
   "cell_type": "markdown",
   "metadata": {
    "id": "TU0xPna99_g6"
   },
   "source": [
    "# DNN"
   ]
  },
  {
   "cell_type": "code",
   "execution_count": 12,
   "metadata": {
    "id": "yCcY-T3v9_g7"
   },
   "outputs": [],
   "source": [
    "class FC:\n",
    "    def __init__(self, p, q):\n",
    "        self.W = np.random.normal(0, 0.1, (p, q))\n",
    "        self.b = np.zeros(q)\n",
    "\n",
    "\n",
    "class DNN(DBN):\n",
    "    def __init__(self, n_layers):\n",
    "        self.layers = []\n",
    "        for i in range(len(n_layers) - 2):\n",
    "            self.layers.append(RBM(n_layers[i], n_layers[i + 1]))\n",
    "        self.layers.append(FC(n_layers[-2], n_layers[-1]))\n",
    "\n",
    "\n",
    "def init_DNN(n_layers):\n",
    "    \"\"\"\n",
    "    Construit et initialise les poids et les biais d'un DNN. Cette fonction retournera un DNN avec des poids et biais initialisés.\n",
    "    On initialisera les biais à 0 tandis que les poids seront initialisés aléatoirement suivant une loi normale centrée, de variance égale à 0.01.\n",
    "    \"\"\"\n",
    "    dnn = DNN(n_layers)\n",
    "    return dnn\n",
    "\n",
    "\n",
    "def pretrain_DNN(dnn, X_init, epochs, lr, batch_size):\n",
    "    \"\"\"\n",
    "    Pré-entraine un DNN. Cette fonction retournera un DNN pré-entrainé et prendra en argument un DNN, le nombre d'itérations de la descente de gradient, le learning rate, la taille du mini-batch, des données d'entrées.\n",
    "    \"\"\"\n",
    "    for epoch in range(epochs):\n",
    "        X = X_init\n",
    "        for rbm in dnn[:-1]:\n",
    "            rbm = train_RBM(rbm, X, epochs, lr, batch_size)\n",
    "            X = entree_sortie_RBM(rbm, X)\n",
    "    return dnn\n",
    "\n",
    "\n",
    "def entree_sortie_reseau(dnn, X):\n",
    "    \"\"\"\n",
    "    Calcule les sorties sur chaque couche du réseau (couche d'entrée inclue) ainsi que les probabilités sur les unités de sortie. Cette fonction retournera une liste contenant les sorties sur chaque couche du réseau ainsi que les probabilités sur les unités de sortie et prendra en argument un DNN et des données d'entrée.\n",
    "    \"\"\"\n",
    "    sorties = [X]\n",
    "    for rbm in dnn[:-1]:\n",
    "        sorties.append(entree_sortie_RBM(rbm, sorties[-1]))\n",
    "    sorties.append(calcul_softmax(dnn[-1], sorties[-1]))\n",
    "    return sorties\n",
    "\n",
    "\n",
    "def retropropagation(dnn, X, y, epochs, lr, batch_size, verbose):\n",
    "    \"\"\"\n",
    "    Estime les poids/biais du réseau à partir de données labellisées. Cette fonction retournera un DNN et prendra en argument un DNN, le nombre d'itérations de la descente de gradient, le learning rate, la taille du mini-batch, des données d'entrée, leur label,...\n",
    "    \"\"\"\n",
    "    for epoch in range(epochs):\n",
    "        for i in range(0, X.shape[0], batch_size):\n",
    "            X_batch = X[i : i + batch_size]\n",
    "            y_batch = y[i : i + batch_size]\n",
    "            tb = len(X_batch)\n",
    "            sortie = entree_sortie_reseau(\n",
    "                dnn,\n",
    "                X_batch,\n",
    "            )\n",
    "            # compute dL/dZ\n",
    "            d_Z = sortie[-1] - y_batch\n",
    "\n",
    "            for j in range(len(dnn) - 1, -1, -1):\n",
    "                grad_W = 1 / tb * np.dot(sortie[j].T, d_Z)\n",
    "                grad_b = 1 / tb * np.sum(d_Z, axis=0)\n",
    "\n",
    "                # update W and b\n",
    "                dnn.layers[j].W -= learning_rate * grad_W\n",
    "                dnn.layers[j].b -= learning_rate * grad_b\n",
    "\n",
    "                if j == 0:  # no need to compute at last iteration\n",
    "                    break\n",
    "\n",
    "                # compute dL/dA and dL/dZ\n",
    "                d_A = np.dot(d_Z, dnn[j].W.T)\n",
    "                d_Z = d_A * sortie[j] * (1 - sortie[j])\n",
    "            cross_entropy = -np.mean(np.sum(y_batch * np.log(sortie[-1]), axis=1))\n",
    "        if verbose == 2:\n",
    "            print(f\"Epoch {epoch} - CE:\", cross_entropy)\n",
    "    return dnn\n",
    "\n",
    "\n",
    "def test_DNN(dnn, X, y):\n",
    "    \"\"\"\n",
    "    Teste les performances du réseau appris. Cette fonction retournera le taux d'erreur et prendra en argument un DNN appris, un jeu de données test, et les vrais labels associés.\n",
    "    \"\"\"\n",
    "    sortie = entree_sortie_reseau(dnn, X)\n",
    "    # Compute cross entropy\n",
    "    cross_entropy = -np.mean(np.sum(y * np.log(sortie[-1]), axis=1))\n",
    "    return sortie[-1], cross_entropy"
   ]
  },
  {
   "cell_type": "markdown",
   "source": [
    "# Run"
   ],
   "metadata": {
    "collapsed": false,
    "id": "zN5tOYnZ9_hD"
   }
  },
  {
   "cell_type": "code",
   "execution_count": 13,
   "outputs": [],
   "source": [
    "def run_RBM(\n",
    "    X,\n",
    "    width: int,\n",
    "    height: int,\n",
    "    q: int,\n",
    "    epochs: int,\n",
    "    learning_rate,\n",
    "    batch_size: int,\n",
    "    n_images: int = 9,\n",
    "):\n",
    "\n",
    "    rbm = init_RBM(p=width * height, q=q)\n",
    "\n",
    "    train_RBM(rbm, X, epochs, learning_rate, batch_size)\n",
    "\n",
    "    X_gen = generer_image_RBM(rbm, 100, n_images).reshape(-1, width, height)\n",
    "    return X_gen"
   ],
   "metadata": {
    "pycharm": {
     "is_executing": true
    },
    "id": "vOx6Q5Zq9_hD"
   }
  },
  {
   "cell_type": "code",
   "execution_count": 14,
   "outputs": [],
   "source": [
    "def run_DBN(\n",
    "    X,\n",
    "    n_layers,\n",
    "    width: int,\n",
    "    height: int,\n",
    "    epochs: int,\n",
    "    learning_rate,\n",
    "    batch_size: int,\n",
    "    n_images: int = 9,\n",
    "):\n",
    "    dbn = init_DBN(n_layers)\n",
    "\n",
    "    train_DBN(dbn, X, epochs, learning_rate, batch_size)\n",
    "\n",
    "    X_gen = generer_image_DBN(dbn, 100, n_images).reshape(-1, width, height)\n",
    "    return X_gen"
   ],
   "metadata": {
    "id": "KTnblAoD9_hD"
   }
  },
  {
   "cell_type": "code",
   "execution_count": 15,
   "outputs": [],
   "source": [
    "def run_DNN(\n",
    "    X_train,\n",
    "    X_test,\n",
    "    y_train,\n",
    "    y_test,\n",
    "    n_layers,\n",
    "    learning_rate,\n",
    "    batch_size,\n",
    "    pretrain_iter,\n",
    "    train_iter,\n",
    "    verbose=1,\n",
    "):\n",
    "    # Initialisation du DNN\n",
    "    dnn = init_DNN(n_layers)\n",
    "\n",
    "    # Pré-entrainement du DNN\n",
    "    if pretrain_iter:\n",
    "        dnn = pretrain_DNN(dnn, X_train, pretrain_iter, learning_rate, batch_size)\n",
    "\n",
    "    # Entrainement du DNN\n",
    "    dnn = retropropagation(\n",
    "        dnn, X_train, y_train, train_iter, learning_rate, batch_size, verbose\n",
    "    )\n",
    "\n",
    "    # Test du DNN\n",
    "    y_pred, cross_entropy = test_DNN(dnn, X_test, y_test)\n",
    "    score = f1_score(\n",
    "        np.argmax(y_test, axis=1), np.argmax(y_pred, axis=1), average=\"micro\"\n",
    "    )\n",
    "    if verbose >= 1:\n",
    "        print(\"f1_score\", score)\n",
    "\n",
    "    return cross_entropy, score"
   ],
   "metadata": {
    "id": "qMVfEf0_9_hE"
   }
  },
  {
   "cell_type": "markdown",
   "metadata": {
    "id": "dVwGq4KJ9_hF"
   },
   "source": [
    "# Etude sur Binary AlphaDigit"
   ]
  },
  {
   "cell_type": "code",
   "execution_count": 16,
   "metadata": {
    "id": "VUTGSxYx9_hF"
   },
   "outputs": [],
   "source": [
    "alphadigit = [str(i) for i in range(10)] + [chr(i) for i in range(65, 91)]\n",
    "\n",
    "X, y = lire_alpha_digit(chars=alphadigit)\n",
    "height = 20\n",
    "width = 16"
   ]
  },
  {
   "cell_type": "code",
   "execution_count": 17,
   "outputs": [
    {
     "output_type": "display_data",
     "data": {
      "text/plain": [
       "<Figure size 432x288 with 9 Axes>"
      ],
      "image/png": "[encoded data removed]"
     },
     "metadata": {}
    }
   ],
   "source": [
    "plot_data(X.reshape(-1, height, width), y, save=True)"
   ],
   "metadata": {
    "colab": {
     "base_uri": "https://localhost:8080/",
     "height": 297
    },
    "id": "EFRCXXUl9_hG",
    "outputId": "63f7d26f-066b-48b6-8c0b-f8bade065669"
   }
  },
  {
   "cell_type": "markdown",
   "source": [
    "# Nombre de neurones"
   ],
   "metadata": {
    "collapsed": false,
    "id": "NYbyM7x_9_hH"
   }
  },
  {
   "cell_type": "code",
   "execution_count": 18,
   "outputs": [
    {
     "output_type": "stream",
     "name": "stdout",
     "text": [
      "--- 100 neurons by layer ---\n",
      "--- 300 neurons by layer ---\n",
      "--- 500 neurons by layer ---\n",
      "--- 700 neurons by layer ---\n"
     ]
    }
   ],
   "source": [
    "digit = [str(i) for i in range(10)]\n",
    "X, y = lire_alpha_digit(chars=digit)\n",
    "\n",
    "n_neurons = range(100, 701, 200)\n",
    "\n",
    "epochs = 100\n",
    "learning_rate = 0.1\n",
    "batch_size = 10\n",
    "\n",
    "rbm_images = []\n",
    "dbn_images = []\n",
    "\n",
    "for n in n_neurons:\n",
    "    print(f\"--- {n} neurons by layer ---\")\n",
    "\n",
    "    X_gen_rbm = run_RBM(\n",
    "        X,\n",
    "        height,\n",
    "        width,\n",
    "        n,\n",
    "        epochs,\n",
    "        learning_rate,\n",
    "        batch_size,\n",
    "    )\n",
    "\n",
    "    idxs = np.random.choice(X_gen_rbm.shape[0], 4, replace=False)\n",
    "    rbm_images.append(X_gen_rbm[idxs])\n",
    "\n",
    "    X_gen_dbn = run_DBN(\n",
    "        X,\n",
    "        [320, n, n],\n",
    "        height,\n",
    "        width,\n",
    "        epochs,\n",
    "        learning_rate,\n",
    "        batch_size,\n",
    "    )\n",
    "\n",
    "    idxs = np.random.choice(X_gen_dbn.shape[0], 4, replace=False)\n",
    "    dbn_images.append(X_gen_dbn[idxs])"
   ],
   "metadata": {
    "pycharm": {
     "is_executing": true
    },
    "colab": {
     "base_uri": "https://localhost:8080/"
    },
    "id": "uRrLOz5V9_hI",
    "outputId": "36b2a11b-c7d4-432b-d9cd-dfa24e6d64a1"
   }
  },
  {
   "cell_type": "code",
   "execution_count": 19,
   "outputs": [
    {
     "output_type": "stream",
     "name": "stdout",
     "text": [
      "RBM\n"
     ]
    },
    {
     "output_type": "display_data",
     "data": {
      "text/plain": [
       "<Figure size 288x288 with 16 Axes>"
      ],
      "image/png": "[encoded data removed]"
     },
     "metadata": {
      "needs_background": "light"
     }
    },
    {
     "output_type": "stream",
     "name": "stdout",
     "text": [
      "DBN\n"
     ]
    },
    {
     "output_type": "display_data",
     "data": {
      "text/plain": [
       "<Figure size 288x288 with 16 Axes>"
      ],
      "image/png": "[encoded data removed]"
     },
     "metadata": {
      "needs_background": "light"
     }
    }
   ],
   "source": [
    "print(\"RBM\")\n",
    "plot_batched_images(rbm_images, n_neurons, save=True)\n",
    "\n",
    "print(\"DBN\")\n",
    "plot_batched_images(dbn_images, n_neurons, save=True)"
   ],
   "metadata": {
    "colab": {
     "base_uri": "https://localhost:8080/",
     "height": 612
    },
    "id": "xMyERO4U9_hI",
    "outputId": "67d4cbdd-2584-49b3-9c33-21fd9f5c797e"
   }
  },
  {
   "cell_type": "markdown",
   "source": [
    "# Nombre de couches"
   ],
   "metadata": {
    "collapsed": false,
    "id": "fONZAFUC9_hJ"
   }
  },
  {
   "cell_type": "code",
   "execution_count": 20,
   "outputs": [
    {
     "output_type": "stream",
     "name": "stdout",
     "text": [
      "--- 2 layers ---\n",
      "--- 3 layers ---\n",
      "--- 4 layers ---\n",
      "--- 5 layers ---\n"
     ]
    }
   ],
   "source": [
    "digit = [str(i) for i in range(10)]\n",
    "X, y = lire_alpha_digit(chars=digit)\n",
    "\n",
    "n_layers = range(2, 6)\n",
    "\n",
    "epochs = 100\n",
    "learning_rate = 0.1\n",
    "batch_size = 10\n",
    "q = 200\n",
    "\n",
    "dbn_images = []\n",
    "\n",
    "for n in n_layers:\n",
    "    print(f\"--- {n} layers ---\")\n",
    "    layers = [200] * n\n",
    "\n",
    "    X_gen_dbn = run_DBN(\n",
    "        X,\n",
    "        [320] + layers,\n",
    "        height,\n",
    "        width,\n",
    "        epochs,\n",
    "        learning_rate,\n",
    "        batch_size,\n",
    "    )\n",
    "\n",
    "    idxs = np.random.choice(X_gen_dbn.shape[0], 4, replace=False)\n",
    "    dbn_images.append(X_gen_dbn[idxs])"
   ],
   "metadata": {
    "colab": {
     "base_uri": "https://localhost:8080/"
    },
    "id": "6O8qRRJT9_hJ",
    "outputId": "e225e3e2-d96a-422d-f394-ffdf5f462f2b"
   }
  },
  {
   "cell_type": "code",
   "execution_count": 21,
   "outputs": [
    {
     "output_type": "stream",
     "name": "stdout",
     "text": [
      "DBN\n"
     ]
    },
    {
     "output_type": "display_data",
     "data": {
      "text/plain": [
       "<Figure size 288x288 with 16 Axes>"
      ],
      "image/png": "[encoded data removed]"
     },
     "metadata": {
      "needs_background": "light"
     }
    }
   ],
   "source": [
    "print(\"DBN\")\n",
    "plot_batched_images(dbn_images, n_layers, save=True)"
   ],
   "metadata": {
    "colab": {
     "base_uri": "https://localhost:8080/",
     "height": 314
    },
    "id": "zXmCclYD9_hJ",
    "outputId": "6738f49b-87b0-4b2e-a313-f49361e38fa1"
   }
  },
  {
   "cell_type": "markdown",
   "source": [
    "# Nombre de caractères"
   ],
   "metadata": {
    "collapsed": false,
    "id": "yDjUX8vT9_hK"
   }
  },
  {
   "cell_type": "code",
   "execution_count": 22,
   "outputs": [
    {
     "output_type": "stream",
     "name": "stdout",
     "text": [
      "Small: ['2', '3', '4']\n",
      "Medium: ['0', '1', '2', '3', '4', '5', '6', '7', '8', '9']\n",
      "Large: ['A', 'B', 'C', 'D', 'E', 'F', 'G', 'H', 'I', 'J', 'K', 'L', 'M', 'N', 'O', 'P', 'Q', 'R', 'S', 'T', 'U', 'V', 'W', 'X', 'Y', 'Z']\n"
     ]
    }
   ],
   "source": [
    "small = [\"2\", \"3\", \"4\"]\n",
    "medium = [str(i) for i in range(10)]\n",
    "large = [chr(i) for i in range(65, 91)]\n",
    "\n",
    "print(\"Small:\", small)\n",
    "print(\"Medium:\", medium)\n",
    "print(\"Large:\", large)"
   ],
   "metadata": {
    "colab": {
     "base_uri": "https://localhost:8080/"
    },
    "id": "M2Z8PLN89_hK",
    "outputId": "fb9fb47c-9e50-4e34-9c38-e740675f4dec"
   }
  },
  {
   "cell_type": "code",
   "execution_count": 23,
   "outputs": [
    {
     "output_type": "stream",
     "name": "stdout",
     "text": [
      "--- Size: small ---\n",
      "--- Size: medium ---\n",
      "--- Size: large ---\n"
     ]
    }
   ],
   "source": [
    "epochs = 100\n",
    "learning_rate = 0.1\n",
    "batch_size = 10\n",
    "q = 200\n",
    "n_layers = [320, 200, 200]\n",
    "\n",
    "rbm_images = []\n",
    "dbn_images = []\n",
    "\n",
    "for size, chars in zip([\"small\", \"medium\", \"large\"], [small, medium, large]):\n",
    "    print(\"--- Size:\", size, \"---\")\n",
    "    X, y = lire_alpha_digit(chars=chars)\n",
    "\n",
    "    X_gen_rbm = run_RBM(\n",
    "        X,\n",
    "        height,\n",
    "        width,\n",
    "        q,\n",
    "        epochs,\n",
    "        learning_rate,\n",
    "        batch_size,\n",
    "    )\n",
    "\n",
    "    idxs = np.random.choice(X_gen_rbm.shape[0], 4, replace=False)\n",
    "    rbm_images.append(X_gen_rbm[idxs])\n",
    "\n",
    "    X_gen_dbn = run_DBN(\n",
    "        X,\n",
    "        n_layers,\n",
    "        height,\n",
    "        width,\n",
    "        epochs,\n",
    "        learning_rate,\n",
    "        batch_size,\n",
    "    )\n",
    "\n",
    "    idxs = np.random.choice(X_gen_dbn.shape[0], 4, replace=False)\n",
    "    dbn_images.append(X_gen_dbn[idxs])"
   ],
   "metadata": {
    "colab": {
     "base_uri": "https://localhost:8080/"
    },
    "id": "H-bA9Y2o9_hK",
    "outputId": "5bbb1cf5-46a9-4bed-f14a-5a70cd740fdc"
   }
  },
  {
   "cell_type": "code",
   "execution_count": 33,
   "outputs": [
    {
     "output_type": "stream",
     "name": "stdout",
     "text": [
      "RBM\n"
     ]
    },
    {
     "output_type": "display_data",
     "data": {
      "text/plain": [
       "<Figure size 432x324 with 12 Axes>"
      ],
      "image/png": "[encoded data removed]"
     },
     "metadata": {
      "needs_background": "light"
     }
    },
    {
     "output_type": "stream",
     "name": "stdout",
     "text": [
      "DBN\n"
     ]
    },
    {
     "output_type": "display_data",
     "data": {
      "text/plain": [
       "<Figure size 432x324 with 12 Axes>"
      ],
      "image/png": "[encoded data removed]"
     },
     "metadata": {
      "needs_background": "light"
     }
    }
   ],
   "source": [
    "print(\"RBM\")\n",
    "plot_batched_images(rbm_images, [\"small\", \"medium\", \"large\"], save=True)\n",
    "\n",
    "print(\"DBN\")\n",
    "plot_batched_images(dbn_images, [\"small\", \"medium\", \"large\"], save=True)"
   ],
   "metadata": {
    "colab": {
     "base_uri": "https://localhost:8080/",
     "height": 684
    },
    "id": "FACHV5Og9_hL",
    "outputId": "5d101018-9295-4738-bbb9-8792e8a4da20"
   }
  },
  {
   "cell_type": "markdown",
   "source": [
    "# Etude sur MNIST"
   ],
   "metadata": {
    "collapsed": false,
    "id": "QcCYxriu9_hL"
   }
  },
  {
   "cell_type": "code",
   "execution_count": null,
   "outputs": [],
   "source": [
    "X_train, X_test, y_train, y_test = lire_mnist(subsample_size=-1)\n",
    "\n",
    "batch_size = 2000\n",
    "learning_rate = 0.1\n",
    "n_layers = [784, 200, 10]\n",
    "pretrain_iter = 5\n",
    "train_iter = 5"
   ],
   "metadata": {
    "id": "pd5o6QOm9_hL"
   }
  },
  {
   "cell_type": "code",
   "execution_count": null,
   "outputs": [
    {
     "data": {
      "text/plain": "<Figure size 640x480 with 9 Axes>",
      "image/png": "[encoded data removed]"
     },
     "metadata": {},
     "output_type": "display_data"
    }
   ],
   "source": [
    "plot_data(X_train.reshape(-1, 28, 28))"
   ],
   "metadata": {
    "id": "1IpCFaCD9_hL",
    "outputId": "b5635336-4530-4c4b-8a8b-d1577b5865df"
   }
  },
  {
   "cell_type": "code",
   "execution_count": null,
   "outputs": [
    {
     "name": "stdout",
     "output_type": "stream",
     "text": [
      "f1_score 0.8825\n"
     ]
    }
   ],
   "source": [
    "ce, score = run_DNN(\n",
    "    X_train,\n",
    "    X_test,\n",
    "    y_train,\n",
    "    y_test,\n",
    "    n_layers=n_layers,\n",
    "    learning_rate=learning_rate,\n",
    "    batch_size=batch_size,\n",
    "    pretrain_iter=pretrain_iter,\n",
    "    train_iter=train_iter,\n",
    "    verbose=1,\n",
    ")"
   ],
   "metadata": {
    "id": "zPcp4h5m9_hM",
    "outputId": "fd60b7b6-f659-44f2-f3b6-fd5acd9920d2"
   }
  },
  {
   "cell_type": "markdown",
   "source": [
    "# VAE"
   ],
   "metadata": {
    "collapsed": false,
    "id": "iM3lLZdv9_iP"
   }
  },
  {
   "cell_type": "code",
   "execution_count": 36,
   "outputs": [
    {
     "output_type": "stream",
     "name": "stdout",
     "text": [
      "Downloading data from https://storage.googleapis.com/tensorflow/tf-keras-datasets/mnist.npz\n",
      "11490434/11490434 [==============================] - 0s 0us/step\n"
     ]
    }
   ],
   "source": [
    "X_train, X_test, y_train, y_test = lire_mnist(subsample_size=-1)"
   ],
   "metadata": {
    "colab": {
     "base_uri": "https://localhost:8080/"
    },
    "id": "lVzze_gV9_iQ",
    "outputId": "444d94ea-5b9e-4746-aa3b-63f8eae6f61f"
   }
  },
  {
   "cell_type": "code",
   "execution_count": 37,
   "outputs": [],
   "source": [
    "# code VAE\n",
    "class VAE(nn.Module):\n",
    "    def __init__(self, input_dim, hidden_dim, latent_dim):\n",
    "        super(VAE, self).__init__()\n",
    "\n",
    "        self.input_dim = input_dim\n",
    "        self.hidden_dim = hidden_dim\n",
    "        self.latent_dim = latent_dim\n",
    "\n",
    "        self.fc1 = nn.Linear(input_dim, hidden_dim)\n",
    "        self.fc21 = nn.Linear(hidden_dim, latent_dim)\n",
    "        self.fc22 = nn.Linear(hidden_dim, latent_dim)\n",
    "        self.fc3 = nn.Linear(latent_dim, hidden_dim)\n",
    "        self.fc4 = nn.Linear(hidden_dim, input_dim)\n",
    "\n",
    "    def encode(self, x):\n",
    "        h1 = F.relu(self.fc1(x))\n",
    "        return self.fc21(h1), self.fc22(h1)\n",
    "\n",
    "    def reparameterize(self, mu, logvar):\n",
    "        std = torch.exp(0.5 * logvar)\n",
    "        eps = torch.randn_like(std)\n",
    "        return eps.mul(std).add_(mu)\n",
    "\n",
    "    def decode(self, z):\n",
    "        h3 = F.relu(self.fc3(z))\n",
    "        return torch.sigmoid(self.fc4(h3))\n",
    "\n",
    "    def forward(self, x):\n",
    "        mu, logvar = self.encode(x.view(-1, self.input_dim))\n",
    "        z = self.reparameterize(mu, logvar)\n",
    "        return self.decode(z), mu, logvar"
   ],
   "metadata": {
    "id": "tKURK3DJ9_iQ"
   }
  },
  {
   "cell_type": "code",
   "execution_count": 38,
   "outputs": [],
   "source": [
    "# training VAE\n",
    "def loss_function(recon_x, x, mu, logvar):\n",
    "    BCE = F.binary_cross_entropy(recon_x, x.view(-1, 784), reduction=\"sum\")\n",
    "\n",
    "    # see Appendix B from VAE paper:\n",
    "    # Kingma and Welling. Auto-Encoding Variational Bayes. ICLR, 2014\n",
    "    # https://arxiv.org/abs/1312.6114\n",
    "    # 0.5 * sum(1 + log(sigma^2) - mu^2 - sigma^2)\n",
    "    KLD = -0.5 * torch.sum(1 + logvar - mu.pow(2) - logvar.exp())\n",
    "\n",
    "    return BCE + KLD"
   ],
   "metadata": {
    "id": "mMNzZfgu9_iR"
   }
  },
  {
   "cell_type": "code",
   "execution_count": 48,
   "outputs": [],
   "source": [
    "def train(model, device, train_loader, optimizer, epoch, verbose=1):\n",
    "    model.train()\n",
    "    train_loss = 0\n",
    "    for batch_idx, (data, _) in enumerate(train_loader):\n",
    "        data = data.to(device)\n",
    "        optimizer.zero_grad()\n",
    "        recon_batch, mu, logvar = model(data)\n",
    "        loss = loss_function(recon_batch, data, mu, logvar)\n",
    "        loss.backward()\n",
    "        train_loss += loss.item()\n",
    "        optimizer.step()\n",
    "        if batch_idx % 100 == 0 and verbose >= 2:\n",
    "            print(\n",
    "                \"Train Epoch: {} [{}/{} ({:.0f}%)]\\tLoss: {:.6f}\".format(\n",
    "                    epoch,\n",
    "                    batch_idx * len(data),\n",
    "                    len(train_loader.dataset),\n",
    "                    100.0 * batch_idx / len(train_loader),\n",
    "                    loss.item() / len(data),\n",
    "                )\n",
    "            )\n",
    "    if verbose >= 1:\n",
    "        print(\n",
    "            \"====> Epoch: {} Average loss: {:.4f}\".format(\n",
    "                epoch, train_loss / len(train_loader.dataset)\n",
    "            )\n",
    "        )\n",
    "\n",
    "\n",
    "def test(model, device, test_loader, verbose=1):\n",
    "    model.eval()\n",
    "    test_loss = 0\n",
    "    with torch.no_grad():\n",
    "        for i, (data, _) in enumerate(test_loader):\n",
    "            data = data.to(device)\n",
    "            recon_batch, mu, logvar = model(data)\n",
    "            test_loss += loss_function(recon_batch, data, mu, logvar).item()\n",
    "            if i == 0:\n",
    "                n = min(data.size(0), 8)\n",
    "                comparison = torch.cat(\n",
    "                    [data[:n], recon_batch.view(batch_size, 1, 28, 28)[:n]]\n",
    "                )\n",
    "                save_image(\n",
    "                    comparison.cpu(),\n",
    "                    \"reconstruction.png\",\n",
    "                    nrow=n,\n",
    "                )\n",
    "\n",
    "    test_loss /= len(test_loader.dataset)\n",
    "    if verbose >= 1:\n",
    "        print(\"====> Test set loss: {:.4f}\".format(test_loss))\n",
    "\n",
    "\n",
    "def run_VAE(train_loader, test_loader, batch_size, epochs, learning_rate):\n",
    "    device = torch.device(\"cuda\" if torch.cuda.is_available() else \"cpu\")\n",
    "    kwargs = {\"num_workers\": 1, \"pin_memory\": True} if torch.cuda.is_available() else {}\n",
    "\n",
    "    model = VAE(784, 400, 20).to(device)\n",
    "    optimizer = torch.optim.Adam(model.parameters(), lr=learning_rate)\n",
    "\n",
    "    for epoch in range(1, epochs + 1):\n",
    "        train(model, device, train_loader, optimizer, epoch)\n",
    "        test(model, device, test_loader)\n",
    "        with torch.no_grad():\n",
    "            sample = torch.randn(64, 20).to(device)\n",
    "            sample = model.decode(sample).cpu()\n",
    "            save_image(\n",
    "                sample.view(64, 1, 28, 28),\n",
    "                \"sample_\" + str(epoch) + \".png\",\n",
    "            )"
   ],
   "metadata": {
    "id": "aePGRcBN9_iR"
   }
  },
  {
   "cell_type": "code",
   "source": [
    "mnist_train = datasets.MNIST(\n",
    "    \"data/\", train=True, download=True, transform=transforms.ToTensor()\n",
    ")\n",
    "mnist_test = datasets.MNIST(\n",
    "    \"data/\", train=False, download=True, transform=transforms.ToTensor()\n",
    ")\n",
    "train_loader = torch.utils.data.DataLoader(\n",
    "    mnist_train,\n",
    "    batch_size=batch_size,\n",
    "    shuffle=True,\n",
    ")\n",
    "test_loader = torch.utils.data.DataLoader(\n",
    "    mnist_test,\n",
    "    batch_size=batch_size,\n",
    "    shuffle=True,\n",
    ")\n",
    "\n",
    "run_VAE(train_loader, test_loader, batch_size=128, epochs=10, learning_rate=1e-3)"
   ],
   "metadata": {
    "colab": {
     "base_uri": "https://localhost:8080/"
    },
    "id": "1fSxo3hsDZq2",
    "outputId": "b9dd37e6-b2e3-46db-cb8b-be7e71d7513f"
   },
   "execution_count": 49,
   "outputs": [
    {
     "output_type": "stream",
     "name": "stdout",
     "text": [
      "====> Epoch: 1 Average loss: 126.7660\n",
      "====> Test set loss: 112.9726\n",
      "====> Epoch: 2 Average loss: 112.3313\n",
      "====> Test set loss: 110.0667\n",
      "====> Epoch: 3 Average loss: 110.2387\n",
      "====> Test set loss: 108.5368\n",
      "====> Epoch: 4 Average loss: 109.0928\n",
      "====> Test set loss: 108.2124\n",
      "====> Epoch: 5 Average loss: 108.3023\n",
      "====> Test set loss: 107.3296\n",
      "====> Epoch: 6 Average loss: 107.7267\n",
      "====> Test set loss: 107.1545\n",
      "====> Epoch: 7 Average loss: 107.2956\n",
      "====> Test set loss: 106.2325\n",
      "====> Epoch: 8 Average loss: 106.8965\n",
      "====> Test set loss: 106.4999\n",
      "====> Epoch: 9 Average loss: 106.5650\n",
      "====> Test set loss: 105.8984\n",
      "====> Epoch: 10 Average loss: 106.3656\n",
      "====> Test set loss: 105.9304\n"
     ]
    }
   ]
  },
  {
   "cell_type": "code",
   "source": [],
   "metadata": {
    "id": "hZ7N-AauHtV5"
   },
   "execution_count": null,
   "outputs": []
  }
 ],
 "metadata": {
  "kernelspec": {
   "display_name": "base",
   "language": "python",
   "name": "python3"
  },
  "language_info": {
   "codemirror_mode": {
    "name": "ipython",
    "version": 3
   },
   "file_extension": ".py",
   "mimetype": "text/x-python",
   "name": "python",
   "nbconvert_exporter": "python",
   "pygments_lexer": "ipython3",
   "version": "3.9.13"
  },
  "orig_nbformat": 4,
  "vscode": {
   "interpreter": {
    "hash": "fdc5d049eec9eaeec1c766624dece239ed4d1607671b6d493e340e6a292a2d6d"
   }
  },
  "colab": {
   "provenance": []
  }
 },
 "nbformat": 4,
 "nbformat_minor": 0
}
