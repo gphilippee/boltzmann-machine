{
 "cells": [
  {
   "cell_type": "code",
   "execution_count": 1,
   "metadata": {},
   "outputs": [],
   "source": [
    "import numpy as np\n",
    "import scipy.io as sio\n",
    "import matplotlib.pyplot as plt"
   ]
  },
  {
   "attachments": {},
   "cell_type": "markdown",
   "metadata": {},
   "source": [
    "# Data"
   ]
  },
  {
   "cell_type": "code",
   "execution_count": 2,
   "metadata": {},
   "outputs": [
    {
     "name": "stdout",
     "output_type": "stream",
     "text": [
      "Shape (36, 39)\n"
     ]
    },
    {
     "data": {
      "image/png": "[encoded data removed]",
      "text/plain": [
       "<Figure size 640x480 with 1 Axes>"
      ]
     },
     "metadata": {},
     "output_type": "display_data"
    }
   ],
   "source": [
    "alpha_digit = sio.loadmat(\"data/binaryalphadigs.mat\", squeeze_me=True)[\"dat\"]\n",
    "\n",
    "print(\"Shape\", alpha_digit.shape)\n",
    "\n",
    "plt.imshow(alpha_digit[9][0], cmap=\"gray\")\n",
    "plt.show()"
   ]
  },
  {
   "cell_type": "code",
   "execution_count": 32,
   "metadata": {},
   "outputs": [],
   "source": [
    "def lire_alpha_digit(alpha_digits, chars):\n",
    "    arr = []\n",
    "    y = []\n",
    "    for i, char in enumerate(chars):\n",
    "        if type(char) == int:\n",
    "            char = str(char)\n",
    "\n",
    "        asc_char = ord(char)\n",
    "        if asc_char >= 65 and asc_char <= 90:\n",
    "            for digit in alpha_digits[asc_char - 55]:\n",
    "                arr.append(digit.flatten())\n",
    "                y.append(asc_char - 55)\n",
    "        elif asc_char >= 48 and asc_char <= 57:\n",
    "            for digit in alpha_digits[asc_char - 48]:\n",
    "                arr.append(digit.flatten())\n",
    "                y.append(asc_char - 48)\n",
    "        else:\n",
    "            raise Exception(\"Char not valid\")\n",
    "    return np.array(arr), np.array(y)"
   ]
  },
  {
   "cell_type": "code",
   "execution_count": 41,
   "metadata": {},
   "outputs": [
    {
     "data": {
      "image/png": "[encoded data removed]",
      "text/plain": [
       "<Figure size 640x480 with 9 Axes>"
      ]
     },
     "metadata": {},
     "output_type": "display_data"
    }
   ],
   "source": [
    "data_digits, labels_digits = lire_alpha_digit(alpha_digit, [\"1\", \"A\"])\n",
    "fig, axs = plt.subplots(3, 3)\n",
    "for i in range(3):\n",
    "    for j in range(3):\n",
    "        idx = np.random.randint(0, data_digits.shape[0])\n",
    "        axs[i, j].imshow(data_digits[idx].reshape(20, 16), cmap=\"gray\")\n",
    "plt.show()"
   ]
  },
  {
   "attachments": {},
   "cell_type": "markdown",
   "metadata": {},
   "source": [
    "# Fonctions élémentaires\n",
    "\n",
    "## RBM"
   ]
  },
  {
   "cell_type": "code",
   "execution_count": 42,
   "metadata": {},
   "outputs": [],
   "source": [
    "class RBM:\n",
    "    def __init__(self, p, q):\n",
    "        self.W = np.random.normal(loc=0, scale=np.sqrt(0.01), size=(p, q))\n",
    "        self.a = np.zeros(p)\n",
    "        self.b = np.zeros(q)\n",
    "\n",
    "\n",
    "def init_RBM(p, q):\n",
    "    return RBM(p, q)\n",
    "\n",
    "\n",
    "def sigmoid(x):\n",
    "    return 1 / (1 + np.exp(-x))\n",
    "\n",
    "\n",
    "def entree_sortie_RBM(rbm, X):\n",
    "    return sigmoid(np.dot(X, rbm.W) + rbm.b)\n",
    "\n",
    "\n",
    "def sortie_entree_RBM(rbm, H):\n",
    "    return sigmoid(np.dot(H, rbm.W.T) + rbm.a)\n",
    "\n",
    "\n",
    "def train_RBM(rbm, X, epochs, lr, batch_size):\n",
    "    p, q = rbm.W.shape\n",
    "    n = X.shape[0]\n",
    "    for epoch in range(epochs):\n",
    "        X_copy = X.copy()\n",
    "        np.random.shuffle(X_copy)\n",
    "\n",
    "        for i in range(0, n, batch_size):\n",
    "            v_0 = X_copy[i : i + batch_size]\n",
    "            es_v_0 = entree_sortie_RBM(rbm, v_0)\n",
    "            h_0 = (np.random.uniform(size=(len(v_0), q)) < es_v_0).astype(\"float\")\n",
    "            v_1 = (\n",
    "                np.random.uniform(size=(len(v_0), p)) < sortie_entree_RBM(rbm, h_0)\n",
    "            ).astype(\"float\")\n",
    "            h_1 = entree_sortie_RBM(rbm, v_1)\n",
    "\n",
    "            rbm.W += lr / batch_size * (np.dot(v_0.T, es_v_0) - np.dot(v_1.T, h_1))\n",
    "            rbm.a += lr / batch_size * np.sum(v_0 - v_1, axis=0)\n",
    "            rbm.b += lr / batch_size * np.sum(es_v_0 - h_1, axis=0)\n",
    "\n",
    "\n",
    "def generer_image_RBM(rbm, gibbs_iter, n_image):\n",
    "    p, q = rbm.W.shape\n",
    "    X = np.zeros((n_image, p))\n",
    "    for i in range(n_image):\n",
    "        x = (np.random.uniform(size=p) < 0.5).astype(\"float\")\n",
    "\n",
    "        for iter in range(gibbs_iter):\n",
    "            h = (np.random.uniform(size=q) < entree_sortie_RBM(rbm, x)).astype(\"float\")\n",
    "            x = (np.random.uniform(size=p) < sortie_entree_RBM(rbm, h)).astype(\"float\")\n",
    "\n",
    "        X[i] = x\n",
    "    return X"
   ]
  },
  {
   "attachments": {},
   "cell_type": "markdown",
   "metadata": {},
   "source": [
    "## DBN"
   ]
  },
  {
   "cell_type": "code",
   "execution_count": 43,
   "metadata": {},
   "outputs": [],
   "source": [
    "class DBN:\n",
    "    def __init__(self, feat_in, layers):\n",
    "        self.rbm = self.init_RBMs(feat_in, layers)\n",
    "\n",
    "    def init_RBMs(self, feat_in, layers):\n",
    "        rbms = []\n",
    "        p = feat_in\n",
    "        for l in layers:\n",
    "            rbm = init_RBM(p, l)\n",
    "            rbms.append(rbm)\n",
    "            p = l\n",
    "        return rbms\n",
    "\n",
    "\n",
    "def init_DBN(layers):\n",
    "    return DBN(320, layers)\n",
    "\n",
    "\n",
    "def train_DBN(dbn, X_init, epochs, lr, batch_size):\n",
    "    for epoch in range(epochs):\n",
    "        X = X_init\n",
    "        for rbm in dbn.rbm:\n",
    "            # print(\"shape\", X.shape, rbm.W.shape, rbm.b.shape)\n",
    "            train_RBM(rbm, X, epochs, lr, batch_size)\n",
    "            X = entree_sortie_RBM(rbm, X)\n",
    "    return dbn\n",
    "\n",
    "\n",
    "def generer_image_DBN(dbn, gibbs_iter, n_image):\n",
    "    X = generer_image_RBM(dbn.rbm[-1], gibbs_iter, n_image)\n",
    "    for i in range(len(dbn.rbm) - 2, -1, -1):\n",
    "        X = sortie_entree_RBM(dbn.rbm[i], X)\n",
    "    return X"
   ]
  },
  {
   "attachments": {},
   "cell_type": "markdown",
   "metadata": {},
   "source": [
    "## DNN"
   ]
  },
  {
   "cell_type": "code",
   "execution_count": 50,
   "metadata": {},
   "outputs": [],
   "source": [
    "class DNN:\n",
    "    def __init__(self, layers):\n",
    "        self.dbn = init_DBN(layers[:-1])\n",
    "\n",
    "\n",
    "def init_DNN(layers):\n",
    "    return DNN(layers)\n",
    "\n",
    "\n",
    "def pretrain_DNN(dnn, X, epochs, lr, batch_size):\n",
    "    train_DBN(dnn.dbn[:-1], X, epochs, lr, batch_size)\n",
    "\n",
    "\n",
    "def calcul_softmax(rbm, X):\n",
    "    z = np.dot(X, rbm.W) + rbm.b\n",
    "    return np.exp(z) / np.sum(np.exp(z))\n",
    "\n",
    "\n",
    "def entree_sortie_reseau(dnn, X):\n",
    "    input = X\n",
    "    activations = [input]\n",
    "\n",
    "    for rbm in dnn.dbn[:-1]:\n",
    "        output = entree_sortie_RBM(rbm, input)\n",
    "        activations.append(output)\n",
    "        input = output\n",
    "\n",
    "    activations.append(calcul_softmax(dnn.dbn[-1], input))\n",
    "    return activations\n",
    "\n",
    "\n",
    "def retropropagation(dnn, X, y, epochs, lr, batch_size):\n",
    "    for epoch in range(epochs):\n",
    "        hat_y = np.ones_like(y)\n",
    "        cross_entropy = np.sum(y * np.log(hat_y))\n",
    "        print(\"CE\", cross_entropy)\n",
    "\n",
    "\n",
    "def test_DNN(dnn, X, y):\n",
    "    pass"
   ]
  },
  {
   "cell_type": "code",
   "execution_count": 49,
   "metadata": {},
   "outputs": [
    {
     "name": "stdout",
     "output_type": "stream",
     "text": [
      "CE 297.36014046021666\n",
      "CE 297.36014046021666\n",
      "CE 297.36014046021666\n",
      "CE 297.36014046021666\n",
      "CE 297.36014046021666\n",
      "CE 297.36014046021666\n",
      "CE 297.36014046021666\n",
      "CE 297.36014046021666\n",
      "CE 297.36014046021666\n",
      "CE 297.36014046021666\n"
     ]
    }
   ],
   "source": [
    "dnn = init_DNN([320, 100, 80, 2])\n",
    "\n",
    "retropropagation(dnn, data_digits, labels_digits, 10, 0.1, 10)"
   ]
  },
  {
   "attachments": {},
   "cell_type": "markdown",
   "metadata": {},
   "source": [
    "# 4. Etude sur Binary AlphaDigit"
   ]
  },
  {
   "cell_type": "code",
   "execution_count": 56,
   "metadata": {},
   "outputs": [
    {
     "data": {
      "image/png": "[encoded data removed]",
      "text/plain": [
       "<Figure size 640x480 with 9 Axes>"
      ]
     },
     "metadata": {},
     "output_type": "display_data"
    }
   ],
   "source": [
    "layers = [100, 80]\n",
    "epochs = 100\n",
    "lr = 0.1\n",
    "batch_size = 10\n",
    "gibbs_iter = 100\n",
    "n_image = 9\n",
    "\n",
    "n_rows = 20\n",
    "n_cols = 16\n",
    "input_size = n_rows * n_cols\n",
    "\n",
    "chars = [\"0\", \"A\"]\n",
    "small = [\"0\", \"1\", \"2\"]\n",
    "medium = [\"0\", \"1\", \"2\", \"3\", \"4\", \"5\", \"6\", \"7\", \"8\", \"9\"]\n",
    "extra_large = [\n",
    "    \"A\",\n",
    "    \"B\",\n",
    "    \"C\",\n",
    "    \"D\",\n",
    "    \"E\",\n",
    "    \"F\",\n",
    "    \"G\",\n",
    "    \"H\",\n",
    "    \"I\",\n",
    "    \"J\",\n",
    "    \"K\",\n",
    "    \"L\",\n",
    "    \"M\",\n",
    "    \"N\",\n",
    "    \"O\",\n",
    "    \"P\",\n",
    "    \"Q\",\n",
    "    \"R\",\n",
    "    \"S\",\n",
    "    \"T\",\n",
    "    \"U\",\n",
    "    \"V\",\n",
    "    \"W\",\n",
    "    \"X\",\n",
    "    \"Y\",\n",
    "    \"Z\",\n",
    "]\n",
    "\n",
    "data, _ = lire_alpha_digit(alpha_digit, medium)\n",
    "\n",
    "rbm = init_RBM(input_size, q=100)\n",
    "\n",
    "train_RBM(rbm, data, epochs, lr, batch_size)\n",
    "\n",
    "X_gen = generer_image_RBM(rbm, gibbs_iter, n_image)\n",
    "\n",
    "for i in range(9):\n",
    "    plt.subplot(3, 3, i + 1)\n",
    "    plt.imshow(X_gen.reshape(-1, n_rows, n_cols)[i], cmap=\"gray\")\n",
    "plt.show()"
   ]
  },
  {
   "cell_type": "code",
   "execution_count": 51,
   "metadata": {},
   "outputs": [
    {
     "data": {
      "text/plain": [
       "<__main__.DBN at 0x1194f97b0>"
      ]
     },
     "execution_count": 51,
     "metadata": {},
     "output_type": "execute_result"
    }
   ],
   "source": [
    "dbn = init_DBN([100, 80])\n",
    "train_DBN(dbn, data, epochs, lr, batch_size)"
   ]
  },
  {
   "cell_type": "code",
   "execution_count": 52,
   "metadata": {},
   "outputs": [
    {
     "data": {
      "image/png": "[encoded data removed]",
      "text/plain": [
       "<Figure size 640x480 with 9 Axes>"
      ]
     },
     "metadata": {},
     "output_type": "display_data"
    }
   ],
   "source": [
    "X_gen = generer_image_DBN(dbn, gibbs_iter, n_image)\n",
    "for i in range(9):\n",
    "    plt.subplot(3, 3, i + 1)\n",
    "    plt.imshow(X_gen.reshape(-1, n_rows, n_cols)[i], cmap=\"gray\")\n",
    "plt.show()"
   ]
  },
  {
   "cell_type": "code",
   "execution_count": null,
   "metadata": {},
   "outputs": [],
   "source": []
  }
 ],
 "metadata": {
  "kernelspec": {
   "display_name": ".venv",
   "language": "python",
   "name": "python3"
  },
  "language_info": {
   "codemirror_mode": {
    "name": "ipython",
    "version": 3
   },
   "file_extension": ".py",
   "mimetype": "text/x-python",
   "name": "python",
   "nbconvert_exporter": "python",
   "pygments_lexer": "ipython3",
   "version": "3.10.6 (main, Sep 19 2022, 22:43:51) [Clang 14.0.0 (clang-1400.0.29.102)]"
  },
  "orig_nbformat": 4,
  "vscode": {
   "interpreter": {
    "hash": "0db509779a4096bdf8afc1b32942028a30e7ede90001dbf82d1e0806b6881234"
   }
  }
 },
 "nbformat": 4,
 "nbformat_minor": 2
}
